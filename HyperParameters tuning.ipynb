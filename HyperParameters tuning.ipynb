{
 "cells": [
  {
   "cell_type": "markdown",
   "metadata": {},
   "source": [
    "# HyperParameter Tuning"
   ]
  },
  {
   "cell_type": "markdown",
   "metadata": {},
   "source": [
    "### Hyperparameter Tuning\n",
    "\n",
    "#### In true machine learning fashion, we ideally ask the machine to  explore and select the optimal model architecture automatically. Parameters which which govern the entire learning process of a model are referred to as hyperparameters and thus this process of searching for the ideal model architecture is referred to as hyperparameter tuning. \n",
    "\n",
    "#### A hyperparameter is a parameter whose value is set before the learning process begin and thus controls the learning process of a model when trained on training data.\n",
    "\n",
    "\n",
    "### Need of Hyperparameter Tuning\n",
    "\n",
    "#### Hyperparameters are important because they directly control the behaviour of the training algorithm and have a significant impact on the performance of the model being trained. “A good choice of hyperparameters can really make an algorithm shine”.\n",
    "\n",
    "### Hyperparameters Tuning Techniques\n",
    "\n",
    "#### 1. Grid Search : Grid search is a traditional way to perform hyperparameter optimization. It works by searching exhaustively through a specified subset of hyperparameters.\n",
    "\n",
    "#### 2. Random Search: Random search differs from grid search mainly in that it searches the specified subset of hyperparameters randomly instead of exhaustively. The major benefit being decreased processing time.\n",
    "\n",
    "#### 3. Bayesian Optimisation: Bayesian optimization is a sequential design strategy for global optimization of black-box functions that doesn't require derivatives.\n",
    "\n",
    "\n",
    "\n",
    "\n",
    "\n",
    "\n",
    "\n",
    "\n",
    "\n"
   ]
  },
  {
   "cell_type": "code",
   "execution_count": 1,
   "metadata": {},
   "outputs": [],
   "source": [
    "# Importing required libraries\n",
    "\n",
    "import numpy as np #  for linear algebra\n",
    "import pandas as pd #  for data processing"
   ]
  },
  {
   "cell_type": "code",
   "execution_count": 2,
   "metadata": {},
   "outputs": [],
   "source": [
    "# Set the working directory\n",
    "import os\n",
    "os.chdir(r\"C:\\Users\\kusum\\Desktop\\Python\")"
   ]
  },
  {
   "cell_type": "code",
   "execution_count": 11,
   "metadata": {},
   "outputs": [
    {
     "name": "stdout",
     "output_type": "stream",
     "text": [
      "        Col1       Col2       Col3       Col4        Col5       Col6  \\\n",
      "0  63.027818  22.552586  39.609117  40.475232   98.672917  -0.254400   \n",
      "1  39.056951  10.060991  25.015378  28.995960  114.405425   4.564259   \n",
      "2  68.832021  22.218482  50.092194  46.613539  105.985135  -3.530317   \n",
      "3  69.297008  24.652878  44.311238  44.644130  101.868495  11.211523   \n",
      "4  49.712859   9.652075  28.317406  40.060784  108.168725   7.918501   \n",
      "5  40.250200  13.921907  25.124950  26.328293  130.327871   2.230652   \n",
      "6  53.432928  15.864336  37.165934  37.568592  120.567523   5.988551   \n",
      "7  45.366754  10.755611  29.038349  34.611142  117.270068 -10.675871   \n",
      "8  43.790190  13.533753  42.690814  30.256437  125.002893  13.289018   \n",
      "9  36.686353   5.010884  41.948751  31.675469   84.241415   0.664437   \n",
      "\n",
      "       Col7     Col8     Col9     Col10      Col11    Col12 Class_att  \n",
      "0  0.744503  12.5661  14.5386  15.30468 -28.658501  43.5123  Abnormal  \n",
      "1  0.415186  12.8874  17.5323  16.78486 -25.530607  16.1102  Abnormal  \n",
      "2  0.474889  26.8343  17.4861  16.65897 -29.031888  19.2221  Abnormal  \n",
      "3  0.369345  23.5603  12.7074  11.42447 -30.470246  18.8329  Abnormal  \n",
      "4  0.543360  35.4940  15.9546   8.87237 -16.378376  24.9171  Abnormal  \n",
      "5  0.789993  29.3230  12.0036  10.40462  -1.512209   9.6548  Abnormal  \n",
      "6  0.198920  13.8514  10.7146  11.37832 -20.510434  25.9477  Abnormal  \n",
      "7  0.131973  28.8165   7.7676   7.60961 -25.111459  26.3543  Abnormal  \n",
      "8  0.190408  22.7085  11.4234  10.59188 -20.020075  40.0276  Abnormal  \n",
      "9  0.367700  26.2011   8.7380  14.91416  -1.702097  21.4320  Abnormal  \n"
     ]
    }
   ],
   "source": [
    "# Reading the datset\n",
    "df=pd.read_csv('Dataset_spine.csv')\n",
    "print(df.head(10))"
   ]
  },
  {
   "cell_type": "code",
   "execution_count": 14,
   "metadata": {
    "scrolled": true
   },
   "outputs": [
    {
     "data": {
      "text/html": [
       "<div>\n",
       "<style scoped>\n",
       "    .dataframe tbody tr th:only-of-type {\n",
       "        vertical-align: middle;\n",
       "    }\n",
       "\n",
       "    .dataframe tbody tr th {\n",
       "        vertical-align: top;\n",
       "    }\n",
       "\n",
       "    .dataframe thead th {\n",
       "        text-align: right;\n",
       "    }\n",
       "</style>\n",
       "<table border=\"1\" class=\"dataframe\">\n",
       "  <thead>\n",
       "    <tr style=\"text-align: right;\">\n",
       "      <th></th>\n",
       "      <th>pelvic_incidnece</th>\n",
       "      <th>pelvic_tilt</th>\n",
       "      <th>lumbar_lordosis_angle</th>\n",
       "      <th>sacral_slope</th>\n",
       "      <th>pelvic_radius</th>\n",
       "      <th>degree_spondylolisthesis</th>\n",
       "      <th>pelvic_slope</th>\n",
       "      <th>Direct_tilt</th>\n",
       "      <th>thoracic_slope</th>\n",
       "      <th>cervical_tilt</th>\n",
       "      <th>sacrum_angle</th>\n",
       "      <th>scoliosis_slope</th>\n",
       "      <th>Class_att</th>\n",
       "    </tr>\n",
       "  </thead>\n",
       "  <tbody>\n",
       "    <tr>\n",
       "      <th>0</th>\n",
       "      <td>63.027818</td>\n",
       "      <td>22.552586</td>\n",
       "      <td>39.609117</td>\n",
       "      <td>40.475232</td>\n",
       "      <td>98.672917</td>\n",
       "      <td>-0.254400</td>\n",
       "      <td>0.744503</td>\n",
       "      <td>12.5661</td>\n",
       "      <td>14.5386</td>\n",
       "      <td>15.30468</td>\n",
       "      <td>-28.658501</td>\n",
       "      <td>43.5123</td>\n",
       "      <td>Abnormal</td>\n",
       "    </tr>\n",
       "    <tr>\n",
       "      <th>1</th>\n",
       "      <td>39.056951</td>\n",
       "      <td>10.060991</td>\n",
       "      <td>25.015378</td>\n",
       "      <td>28.995960</td>\n",
       "      <td>114.405425</td>\n",
       "      <td>4.564259</td>\n",
       "      <td>0.415186</td>\n",
       "      <td>12.8874</td>\n",
       "      <td>17.5323</td>\n",
       "      <td>16.78486</td>\n",
       "      <td>-25.530607</td>\n",
       "      <td>16.1102</td>\n",
       "      <td>Abnormal</td>\n",
       "    </tr>\n",
       "  </tbody>\n",
       "</table>\n",
       "</div>"
      ],
      "text/plain": [
       "   pelvic_incidnece  pelvic_tilt  lumbar_lordosis_angle  sacral_slope  \\\n",
       "0         63.027818    22.552586              39.609117     40.475232   \n",
       "1         39.056951    10.060991              25.015378     28.995960   \n",
       "\n",
       "   pelvic_radius  degree_spondylolisthesis  pelvic_slope  Direct_tilt  \\\n",
       "0      98.672917                 -0.254400      0.744503      12.5661   \n",
       "1     114.405425                  4.564259      0.415186      12.8874   \n",
       "\n",
       "   thoracic_slope  cervical_tilt  sacrum_angle  scoliosis_slope Class_att  \n",
       "0         14.5386       15.30468    -28.658501          43.5123  Abnormal  \n",
       "1         17.5323       16.78486    -25.530607          16.1102  Abnormal  "
      ]
     },
     "execution_count": 14,
     "metadata": {},
     "output_type": "execute_result"
    }
   ],
   "source": [
    "# Relabelling columns\n",
    "col_name = ['pelvic_incidnece','pelvic_tilt','lumbar_lordosis_angle','sacral_slope','pelvic_radius','degree_spondylolisthesis',\n",
    "           'pelvic_slope','Direct_tilt','thoracic_slope','cervical_tilt','sacrum_angle','scoliosis_slope','Class_att']\n",
    "df.columns = col_name\n",
    "\n",
    "df.head(2)"
   ]
  },
  {
   "cell_type": "code",
   "execution_count": 9,
   "metadata": {
    "scrolled": true
   },
   "outputs": [
    {
     "data": {
      "text/html": [
       "<div>\n",
       "<style scoped>\n",
       "    .dataframe tbody tr th:only-of-type {\n",
       "        vertical-align: middle;\n",
       "    }\n",
       "\n",
       "    .dataframe tbody tr th {\n",
       "        vertical-align: top;\n",
       "    }\n",
       "\n",
       "    .dataframe thead th {\n",
       "        text-align: right;\n",
       "    }\n",
       "</style>\n",
       "<table border=\"1\" class=\"dataframe\">\n",
       "  <thead>\n",
       "    <tr style=\"text-align: right;\">\n",
       "      <th></th>\n",
       "      <th>pelvic_incidnece</th>\n",
       "      <th>pelvic_tilt</th>\n",
       "      <th>lumbar_lordosis_angle</th>\n",
       "      <th>sacral_slope</th>\n",
       "      <th>pelvic_radius</th>\n",
       "      <th>degree_spondylolisthesis</th>\n",
       "      <th>pelvic_slope</th>\n",
       "      <th>Direct_tilt</th>\n",
       "      <th>thoracic_slope</th>\n",
       "      <th>cervical_tilt</th>\n",
       "      <th>sacrum_angle</th>\n",
       "      <th>scoliosis_slope</th>\n",
       "    </tr>\n",
       "  </thead>\n",
       "  <tbody>\n",
       "    <tr>\n",
       "      <th>count</th>\n",
       "      <td>310.000000</td>\n",
       "      <td>310.000000</td>\n",
       "      <td>310.000000</td>\n",
       "      <td>310.000000</td>\n",
       "      <td>310.000000</td>\n",
       "      <td>310.000000</td>\n",
       "      <td>310.000000</td>\n",
       "      <td>310.000000</td>\n",
       "      <td>310.000000</td>\n",
       "      <td>310.000000</td>\n",
       "      <td>310.000000</td>\n",
       "      <td>310.000000</td>\n",
       "    </tr>\n",
       "    <tr>\n",
       "      <th>mean</th>\n",
       "      <td>60.496653</td>\n",
       "      <td>17.542822</td>\n",
       "      <td>51.930930</td>\n",
       "      <td>42.953831</td>\n",
       "      <td>117.920655</td>\n",
       "      <td>26.296694</td>\n",
       "      <td>0.472979</td>\n",
       "      <td>21.321526</td>\n",
       "      <td>13.064511</td>\n",
       "      <td>11.933317</td>\n",
       "      <td>-14.053139</td>\n",
       "      <td>25.645981</td>\n",
       "    </tr>\n",
       "    <tr>\n",
       "      <th>std</th>\n",
       "      <td>17.236520</td>\n",
       "      <td>10.008330</td>\n",
       "      <td>18.554064</td>\n",
       "      <td>13.423102</td>\n",
       "      <td>13.317377</td>\n",
       "      <td>37.559027</td>\n",
       "      <td>0.285787</td>\n",
       "      <td>8.639423</td>\n",
       "      <td>3.399713</td>\n",
       "      <td>2.893265</td>\n",
       "      <td>12.225582</td>\n",
       "      <td>10.450558</td>\n",
       "    </tr>\n",
       "    <tr>\n",
       "      <th>min</th>\n",
       "      <td>26.147921</td>\n",
       "      <td>-6.554948</td>\n",
       "      <td>14.000000</td>\n",
       "      <td>13.366931</td>\n",
       "      <td>70.082575</td>\n",
       "      <td>-11.058179</td>\n",
       "      <td>0.003220</td>\n",
       "      <td>7.027000</td>\n",
       "      <td>7.037800</td>\n",
       "      <td>7.030600</td>\n",
       "      <td>-35.287375</td>\n",
       "      <td>7.007900</td>\n",
       "    </tr>\n",
       "    <tr>\n",
       "      <th>25%</th>\n",
       "      <td>46.430294</td>\n",
       "      <td>10.667069</td>\n",
       "      <td>37.000000</td>\n",
       "      <td>33.347122</td>\n",
       "      <td>110.709196</td>\n",
       "      <td>1.603727</td>\n",
       "      <td>0.224367</td>\n",
       "      <td>13.054400</td>\n",
       "      <td>10.417800</td>\n",
       "      <td>9.541140</td>\n",
       "      <td>-24.289522</td>\n",
       "      <td>17.189075</td>\n",
       "    </tr>\n",
       "    <tr>\n",
       "      <th>50%</th>\n",
       "      <td>58.691038</td>\n",
       "      <td>16.357689</td>\n",
       "      <td>49.562398</td>\n",
       "      <td>42.404912</td>\n",
       "      <td>118.268178</td>\n",
       "      <td>11.767934</td>\n",
       "      <td>0.475989</td>\n",
       "      <td>21.907150</td>\n",
       "      <td>12.938450</td>\n",
       "      <td>11.953835</td>\n",
       "      <td>-14.622856</td>\n",
       "      <td>24.931950</td>\n",
       "    </tr>\n",
       "    <tr>\n",
       "      <th>75%</th>\n",
       "      <td>72.877696</td>\n",
       "      <td>22.120395</td>\n",
       "      <td>63.000000</td>\n",
       "      <td>52.695888</td>\n",
       "      <td>125.467674</td>\n",
       "      <td>41.287352</td>\n",
       "      <td>0.704846</td>\n",
       "      <td>28.954075</td>\n",
       "      <td>15.889525</td>\n",
       "      <td>14.371810</td>\n",
       "      <td>-3.497094</td>\n",
       "      <td>33.979600</td>\n",
       "    </tr>\n",
       "    <tr>\n",
       "      <th>max</th>\n",
       "      <td>129.834041</td>\n",
       "      <td>49.431864</td>\n",
       "      <td>125.742385</td>\n",
       "      <td>121.429566</td>\n",
       "      <td>163.071041</td>\n",
       "      <td>418.543082</td>\n",
       "      <td>0.998827</td>\n",
       "      <td>36.743900</td>\n",
       "      <td>19.324000</td>\n",
       "      <td>16.821080</td>\n",
       "      <td>6.972071</td>\n",
       "      <td>44.341200</td>\n",
       "    </tr>\n",
       "  </tbody>\n",
       "</table>\n",
       "</div>"
      ],
      "text/plain": [
       "       pelvic_incidnece  pelvic_tilt  lumbar_lordosis_angle  sacral_slope  \\\n",
       "count        310.000000   310.000000             310.000000    310.000000   \n",
       "mean          60.496653    17.542822              51.930930     42.953831   \n",
       "std           17.236520    10.008330              18.554064     13.423102   \n",
       "min           26.147921    -6.554948              14.000000     13.366931   \n",
       "25%           46.430294    10.667069              37.000000     33.347122   \n",
       "50%           58.691038    16.357689              49.562398     42.404912   \n",
       "75%           72.877696    22.120395              63.000000     52.695888   \n",
       "max          129.834041    49.431864             125.742385    121.429566   \n",
       "\n",
       "       pelvic_radius  degree_spondylolisthesis  pelvic_slope  Direct_tilt  \\\n",
       "count     310.000000                310.000000    310.000000   310.000000   \n",
       "mean      117.920655                 26.296694      0.472979    21.321526   \n",
       "std        13.317377                 37.559027      0.285787     8.639423   \n",
       "min        70.082575                -11.058179      0.003220     7.027000   \n",
       "25%       110.709196                  1.603727      0.224367    13.054400   \n",
       "50%       118.268178                 11.767934      0.475989    21.907150   \n",
       "75%       125.467674                 41.287352      0.704846    28.954075   \n",
       "max       163.071041                418.543082      0.998827    36.743900   \n",
       "\n",
       "       thoracic_slope  cervical_tilt  sacrum_angle  scoliosis_slope  \n",
       "count      310.000000     310.000000    310.000000       310.000000  \n",
       "mean        13.064511      11.933317    -14.053139        25.645981  \n",
       "std          3.399713       2.893265     12.225582        10.450558  \n",
       "min          7.037800       7.030600    -35.287375         7.007900  \n",
       "25%         10.417800       9.541140    -24.289522        17.189075  \n",
       "50%         12.938450      11.953835    -14.622856        24.931950  \n",
       "75%         15.889525      14.371810     -3.497094        33.979600  \n",
       "max         19.324000      16.821080      6.972071        44.341200  "
      ]
     },
     "execution_count": 9,
     "metadata": {},
     "output_type": "execute_result"
    }
   ],
   "source": [
    "# Summary of data\n",
    "\n",
    "df.describe()"
   ]
  },
  {
   "cell_type": "code",
   "execution_count": 15,
   "metadata": {},
   "outputs": [
    {
     "name": "stdout",
     "output_type": "stream",
     "text": [
      "pelvic_incidnece            float64\n",
      "pelvic_tilt                 float64\n",
      "lumbar_lordosis_angle       float64\n",
      "sacral_slope                float64\n",
      "pelvic_radius               float64\n",
      "degree_spondylolisthesis    float64\n",
      "pelvic_slope                float64\n",
      "Direct_tilt                 float64\n",
      "thoracic_slope              float64\n",
      "cervical_tilt               float64\n",
      "sacrum_angle                float64\n",
      "scoliosis_slope             float64\n",
      "Class_att                    object\n",
      "dtype: object\n",
      "(310, 13)\n"
     ]
    }
   ],
   "source": [
    "print(df.dtypes)  # To get the columns types\n",
    "print(df.shape)  # size of dataframe"
   ]
  },
  {
   "cell_type": "markdown",
   "metadata": {},
   "source": [
    "#### Dataset:Lower backpain symptoms dataset.\n",
    "The data has 310 Observations, 13 variables out of which 12 are Numeric and 1 Binary Class Attribute. \n",
    "This data set is about to identify if a person is abnormal or normal using collected physical spine details."
   ]
  },
  {
   "cell_type": "code",
   "execution_count": 16,
   "metadata": {},
   "outputs": [
    {
     "data": {
      "text/plain": [
       "Index([], dtype='object')"
      ]
     },
     "execution_count": 16,
     "metadata": {},
     "output_type": "execute_result"
    }
   ],
   "source": [
    "# Checking for missing values\n",
    "\n",
    "df.columns[df.isnull().any()]\n"
   ]
  },
  {
   "cell_type": "markdown",
   "metadata": {},
   "source": [
    "We do not have missing values in any of the columns."
   ]
  },
  {
   "cell_type": "code",
   "execution_count": 17,
   "metadata": {},
   "outputs": [
    {
     "data": {
      "text/html": [
       "<div>\n",
       "<style scoped>\n",
       "    .dataframe tbody tr th:only-of-type {\n",
       "        vertical-align: middle;\n",
       "    }\n",
       "\n",
       "    .dataframe tbody tr th {\n",
       "        vertical-align: top;\n",
       "    }\n",
       "\n",
       "    .dataframe thead th {\n",
       "        text-align: right;\n",
       "    }\n",
       "</style>\n",
       "<table border=\"1\" class=\"dataframe\">\n",
       "  <thead>\n",
       "    <tr style=\"text-align: right;\">\n",
       "      <th></th>\n",
       "      <th>pelvic_incidnece</th>\n",
       "      <th>pelvic_tilt</th>\n",
       "      <th>lumbar_lordosis_angle</th>\n",
       "      <th>sacral_slope</th>\n",
       "      <th>pelvic_radius</th>\n",
       "      <th>degree_spondylolisthesis</th>\n",
       "      <th>pelvic_slope</th>\n",
       "      <th>Direct_tilt</th>\n",
       "      <th>thoracic_slope</th>\n",
       "      <th>cervical_tilt</th>\n",
       "      <th>sacrum_angle</th>\n",
       "      <th>scoliosis_slope</th>\n",
       "      <th>Class_att</th>\n",
       "    </tr>\n",
       "  </thead>\n",
       "  <tbody>\n",
       "    <tr>\n",
       "      <th>0</th>\n",
       "      <td>63.027818</td>\n",
       "      <td>22.552586</td>\n",
       "      <td>39.609117</td>\n",
       "      <td>40.475232</td>\n",
       "      <td>98.672917</td>\n",
       "      <td>-0.254400</td>\n",
       "      <td>0.744503</td>\n",
       "      <td>12.5661</td>\n",
       "      <td>14.5386</td>\n",
       "      <td>15.30468</td>\n",
       "      <td>-28.658501</td>\n",
       "      <td>43.5123</td>\n",
       "      <td>1</td>\n",
       "    </tr>\n",
       "    <tr>\n",
       "      <th>1</th>\n",
       "      <td>39.056951</td>\n",
       "      <td>10.060991</td>\n",
       "      <td>25.015378</td>\n",
       "      <td>28.995960</td>\n",
       "      <td>114.405425</td>\n",
       "      <td>4.564259</td>\n",
       "      <td>0.415186</td>\n",
       "      <td>12.8874</td>\n",
       "      <td>17.5323</td>\n",
       "      <td>16.78486</td>\n",
       "      <td>-25.530607</td>\n",
       "      <td>16.1102</td>\n",
       "      <td>1</td>\n",
       "    </tr>\n",
       "    <tr>\n",
       "      <th>2</th>\n",
       "      <td>68.832021</td>\n",
       "      <td>22.218482</td>\n",
       "      <td>50.092194</td>\n",
       "      <td>46.613539</td>\n",
       "      <td>105.985135</td>\n",
       "      <td>-3.530317</td>\n",
       "      <td>0.474889</td>\n",
       "      <td>26.8343</td>\n",
       "      <td>17.4861</td>\n",
       "      <td>16.65897</td>\n",
       "      <td>-29.031888</td>\n",
       "      <td>19.2221</td>\n",
       "      <td>1</td>\n",
       "    </tr>\n",
       "    <tr>\n",
       "      <th>3</th>\n",
       "      <td>69.297008</td>\n",
       "      <td>24.652878</td>\n",
       "      <td>44.311238</td>\n",
       "      <td>44.644130</td>\n",
       "      <td>101.868495</td>\n",
       "      <td>11.211523</td>\n",
       "      <td>0.369345</td>\n",
       "      <td>23.5603</td>\n",
       "      <td>12.7074</td>\n",
       "      <td>11.42447</td>\n",
       "      <td>-30.470246</td>\n",
       "      <td>18.8329</td>\n",
       "      <td>1</td>\n",
       "    </tr>\n",
       "    <tr>\n",
       "      <th>4</th>\n",
       "      <td>49.712859</td>\n",
       "      <td>9.652075</td>\n",
       "      <td>28.317406</td>\n",
       "      <td>40.060784</td>\n",
       "      <td>108.168725</td>\n",
       "      <td>7.918501</td>\n",
       "      <td>0.543360</td>\n",
       "      <td>35.4940</td>\n",
       "      <td>15.9546</td>\n",
       "      <td>8.87237</td>\n",
       "      <td>-16.378376</td>\n",
       "      <td>24.9171</td>\n",
       "      <td>1</td>\n",
       "    </tr>\n",
       "  </tbody>\n",
       "</table>\n",
       "</div>"
      ],
      "text/plain": [
       "   pelvic_incidnece  pelvic_tilt  lumbar_lordosis_angle  sacral_slope  \\\n",
       "0         63.027818    22.552586              39.609117     40.475232   \n",
       "1         39.056951    10.060991              25.015378     28.995960   \n",
       "2         68.832021    22.218482              50.092194     46.613539   \n",
       "3         69.297008    24.652878              44.311238     44.644130   \n",
       "4         49.712859     9.652075              28.317406     40.060784   \n",
       "\n",
       "   pelvic_radius  degree_spondylolisthesis  pelvic_slope  Direct_tilt  \\\n",
       "0      98.672917                 -0.254400      0.744503      12.5661   \n",
       "1     114.405425                  4.564259      0.415186      12.8874   \n",
       "2     105.985135                 -3.530317      0.474889      26.8343   \n",
       "3     101.868495                 11.211523      0.369345      23.5603   \n",
       "4     108.168725                  7.918501      0.543360      35.4940   \n",
       "\n",
       "   thoracic_slope  cervical_tilt  sacrum_angle  scoliosis_slope  Class_att  \n",
       "0         14.5386       15.30468    -28.658501          43.5123          1  \n",
       "1         17.5323       16.78486    -25.530607          16.1102          1  \n",
       "2         17.4861       16.65897    -29.031888          19.2221          1  \n",
       "3         12.7074       11.42447    -30.470246          18.8329          1  \n",
       "4         15.9546        8.87237    -16.378376          24.9171          1  "
      ]
     },
     "execution_count": 17,
     "metadata": {},
     "output_type": "execute_result"
    }
   ],
   "source": [
    "#replacing Abnormal and Normal with 1 and 0 respectively\n",
    "df.Class_att=df.Class_att.map({'Abnormal':1,'Normal':0})\n",
    "df.head()"
   ]
  },
  {
   "cell_type": "markdown",
   "metadata": {},
   "source": [
    "##### Train-test split"
   ]
  },
  {
   "cell_type": "code",
   "execution_count": 18,
   "metadata": {},
   "outputs": [],
   "source": [
    "from sklearn.model_selection import train_test_split"
   ]
  },
  {
   "cell_type": "code",
   "execution_count": 182,
   "metadata": {},
   "outputs": [],
   "source": [
    "# Test train split\n",
    "x = df.drop(columns='Class_att')\n",
    "y = np.array(df['Class_att'])"
   ]
  },
  {
   "cell_type": "code",
   "execution_count": 183,
   "metadata": {},
   "outputs": [],
   "source": [
    "# Splitting data into testing and training.\n",
    "x_train,x_test,y_train,y_test = train_test_split(x,y,test_size=0.3,random_state=15)"
   ]
  },
  {
   "cell_type": "code",
   "execution_count": 26,
   "metadata": {},
   "outputs": [
    {
     "name": "stdout",
     "output_type": "stream",
     "text": [
      "(217, 12)\n",
      "(217,)\n",
      "(93, 12)\n",
      "(93,)\n"
     ]
    }
   ],
   "source": [
    "# Checking the size \n",
    "print(x_train.shape)  # Train input\n",
    "print(y_train.shape)  # Train output\n",
    "print(x_test.shape)   # To be predicted \n",
    "print(y_test.shape)   # Expected test output"
   ]
  },
  {
   "cell_type": "markdown",
   "metadata": {},
   "source": [
    "### 1. BaggingClassifier\n",
    "\n",
    "#### (Bootstrap Aggregating) is the ensemble method that involves manipulating the training set by resampling and running algorithms on it. Bagging classifier uses a process called bootstrapped dataset to create multiple datasets from one original dataset and runs algorithm on each one of them. After running a learning algorithm on each one of the bootstrapped datasets, all models are combined by taking their average or mode. The unseen data then goes through this averaged classifier/combined classifier and predict the output."
   ]
  },
  {
   "cell_type": "markdown",
   "metadata": {},
   "source": [
    "#### 1.1 Without HyperParameter Tuning"
   ]
  },
  {
   "cell_type": "code",
   "execution_count": 42,
   "metadata": {},
   "outputs": [],
   "source": [
    "import sklearn.ensemble as ensemble\n",
    "from sklearn.ensemble import BaggingClassifier\n",
    "from sklearn.tree import DecisionTreeClassifier"
   ]
  },
  {
   "cell_type": "code",
   "execution_count": 105,
   "metadata": {},
   "outputs": [
    {
     "name": "stdout",
     "output_type": "stream",
     "text": [
      "oob score :  0.7880184331797235\n"
     ]
    }
   ],
   "source": [
    "# model with default parameters\n",
    "model_bagging=ensemble.BaggingClassifier()\n",
    "# Training the model\n",
    "model_bagging.fit(x_train,y_train)\n",
    "# Predictiing the test data\n",
    "pred=model_bagging.predict(x_test)\n",
    "# checking for oob score\n",
    "print(\"oob score : \",grid.oob_score_)\n",
    "\n",
    "\n",
    "                 "
   ]
  },
  {
   "cell_type": "markdown",
   "metadata": {},
   "source": [
    "#### 1.2 With Hyperparameter Tuning"
   ]
  },
  {
   "cell_type": "code",
   "execution_count": 162,
   "metadata": {
    "scrolled": true
   },
   "outputs": [
    {
     "name": "stdout",
     "output_type": "stream",
     "text": [
      "For 50  no. of estimators\n",
      "oob score :  0.7880184331797235\n",
      "For 60  no. of estimators\n",
      "oob score :  0.7926267281105991\n",
      "For 70  no. of estimators\n",
      "oob score :  0.8387096774193549\n",
      "For 80  no. of estimators\n",
      "oob score :  0.7972350230414746\n",
      "For 100  no. of estimators\n",
      "oob score :  0.7788018433179723\n",
      "For 150  no. of estimators\n",
      "oob score :  0.8018433179723502\n",
      "For 200  no. of estimators\n",
      "oob score :  0.8110599078341014\n",
      "For 250  no. of estimators\n",
      "oob score :  0.7880184331797235\n",
      "For 300  no. of estimators\n",
      "oob score :  0.783410138248848\n"
     ]
    }
   ],
   "source": [
    "n_estimators = [50,60,70,80,100,150,200,250,300]\n",
    "for i in n_estimators:\n",
    "    grid =ensemble.BaggingClassifier(base_estimator=None, ## If None, then the base estimator is a decision tree.\n",
    "                                     n_estimators=i,    # The number of base estimators in the ensemble. Default is 10\n",
    "                                     oob_score=True)   # Use out-of-bag samples to estimate the generalization error.\n",
    "    # Training the model\n",
    "    grid.fit(x_train,y_train)\n",
    "    # Predicting the test data \n",
    "    pred1=grid.predict(x_test)\n",
    "    print(\"For\", i,\" no. of estimators\")\n",
    "    # checking for oob score\n",
    "    print(\"oob score : \",grid.oob_score_)\n"
   ]
  },
  {
   "cell_type": "markdown",
   "metadata": {},
   "source": [
    "Here we can clearly see that optimizing the hyperparameter n_estiamtor improves the accuracy of model from 78.80 to 83.87 percent when it changes from 10(default) to 70."
   ]
  },
  {
   "cell_type": "markdown",
   "metadata": {},
   "source": [
    "### 2. Decision Tree Classifier"
   ]
  },
  {
   "cell_type": "markdown",
   "metadata": {},
   "source": [
    " ##### 2.1 Without parameter tuning\n"
   ]
  },
  {
   "cell_type": "code",
   "execution_count": 154,
   "metadata": {},
   "outputs": [
    {
     "name": "stdout",
     "output_type": "stream",
     "text": [
      "Accuracy: 0.7419354838709677\n"
     ]
    },
    {
     "data": {
      "text/html": [
       "<div>\n",
       "<style scoped>\n",
       "    .dataframe tbody tr th:only-of-type {\n",
       "        vertical-align: middle;\n",
       "    }\n",
       "\n",
       "    .dataframe tbody tr th {\n",
       "        vertical-align: top;\n",
       "    }\n",
       "\n",
       "    .dataframe thead th {\n",
       "        text-align: right;\n",
       "    }\n",
       "</style>\n",
       "<table border=\"1\" class=\"dataframe\">\n",
       "  <thead>\n",
       "    <tr style=\"text-align: right;\">\n",
       "      <th></th>\n",
       "      <th>Abnormal</th>\n",
       "      <th>Normal</th>\n",
       "    </tr>\n",
       "  </thead>\n",
       "  <tbody>\n",
       "    <tr>\n",
       "      <th>Abnormal</th>\n",
       "      <td>17</td>\n",
       "      <td>15</td>\n",
       "    </tr>\n",
       "    <tr>\n",
       "      <th>Normal</th>\n",
       "      <td>9</td>\n",
       "      <td>52</td>\n",
       "    </tr>\n",
       "  </tbody>\n",
       "</table>\n",
       "</div>"
      ],
      "text/plain": [
       "          Abnormal  Normal\n",
       "Abnormal        17      15\n",
       "Normal           9      52"
      ]
     },
     "execution_count": 154,
     "metadata": {},
     "output_type": "execute_result"
    }
   ],
   "source": [
    "from sklearn.tree import DecisionTreeClassifier\n",
    "\n",
    "#making the instance\n",
    "model= DecisionTreeClassifier(random_state=1234)\n",
    "\n",
    "#learning\n",
    "model.fit(x_train,y_train)\n",
    "\n",
    "#Prediction\n",
    "prediction=model.predict(x_test)\n",
    "\n",
    "#importing the metrics module\n",
    "from sklearn import metrics\n",
    "\n",
    "#evaluation(Accuracy)\n",
    "print(\"Accuracy:\",metrics.accuracy_score(prediction,y_test))\n",
    "\n",
    "# Evaluate and Print confusion matrix\n",
    "pd.DataFrame(metrics.confusion_matrix(y_test,prediction),columns=['Abnormal','Normal'],index=['Abnormal','Normal'])\n"
   ]
  },
  {
   "cell_type": "markdown",
   "metadata": {},
   "source": [
    "The accuracy of the model with default parameters of decision tree classifier is 74.19"
   ]
  },
  {
   "cell_type": "markdown",
   "metadata": {},
   "source": [
    "##### 2.2 With parameter tuning - using GridSearchCV"
   ]
  },
  {
   "cell_type": "code",
   "execution_count": 163,
   "metadata": {},
   "outputs": [],
   "source": [
    "from sklearn.model_selection import GridSearchCV"
   ]
  },
  {
   "cell_type": "code",
   "execution_count": 193,
   "metadata": {},
   "outputs": [
    {
     "name": "stdout",
     "output_type": "stream",
     "text": [
      "Best Hyper Parameters: {'criterion': 'entropy', 'max_depth': None, 'max_features': 'sqrt', 'min_samples_leaf': 5, 'min_samples_split': 8}\n",
      "Accuracy: 0.8817204301075269\n"
     ]
    },
    {
     "data": {
      "text/html": [
       "<div>\n",
       "<style scoped>\n",
       "    .dataframe tbody tr th:only-of-type {\n",
       "        vertical-align: middle;\n",
       "    }\n",
       "\n",
       "    .dataframe tbody tr th {\n",
       "        vertical-align: top;\n",
       "    }\n",
       "\n",
       "    .dataframe thead th {\n",
       "        text-align: right;\n",
       "    }\n",
       "</style>\n",
       "<table border=\"1\" class=\"dataframe\">\n",
       "  <thead>\n",
       "    <tr style=\"text-align: right;\">\n",
       "      <th></th>\n",
       "      <th>Abnormal</th>\n",
       "      <th>Normal</th>\n",
       "    </tr>\n",
       "  </thead>\n",
       "  <tbody>\n",
       "    <tr>\n",
       "      <th>Abnormal</th>\n",
       "      <td>24</td>\n",
       "      <td>4</td>\n",
       "    </tr>\n",
       "    <tr>\n",
       "      <th>Normal</th>\n",
       "      <td>7</td>\n",
       "      <td>58</td>\n",
       "    </tr>\n",
       "  </tbody>\n",
       "</table>\n",
       "</div>"
      ],
      "text/plain": [
       "          Abnormal  Normal\n",
       "Abnormal        24       4\n",
       "Normal           7      58"
      ]
     },
     "execution_count": 193,
     "metadata": {},
     "output_type": "execute_result"
    }
   ],
   "source": [
    "#making the instance\n",
    "model= DecisionTreeClassifier()\n",
    "\n",
    "#Hyper Parameters Set\n",
    "param_grid = {\"max_depth\": [3, None],\n",
    "              'max_features': ['auto', 'sqrt'],\n",
    "              \"min_samples_split\": [6,8,9,10,12,14,16],\n",
    "              \"min_samples_leaf\": [3,4,5],\n",
    "               \"criterion\": [\"gini\", \"entropy\"]}\n",
    "\n",
    "# Fitting model on hyperparameters\n",
    "model1 = GridSearchCV(model, param_grid=param_grid, n_jobs=-1)\n",
    "\n",
    "#Learning\n",
    "model1.fit(x_train,y_train)\n",
    "\n",
    "# To know the best set of hyperparamaters\n",
    "print(\"Best Hyper Parameters:\",model1.best_params_)\n",
    "\n",
    "#Prediction\n",
    "prediction=model1.predict(x_test)\n",
    "\n",
    "#evaluation(Accuracy)\n",
    "print(\"Accuracy:\",metrics.accuracy_score(prediction,y_test))\n",
    "\n",
    "#Print confusion matrix\n",
    "pd.DataFrame(metrics.confusion_matrix(y_test,prediction),columns=['Abnormal','Normal'],index=['Abnormal','Normal'])\n"
   ]
  },
  {
   "cell_type": "markdown",
   "metadata": {},
   "source": [
    "The accuracy has drastically improved from 74.19% to 88.17% after tuning the hyperparameters.\n",
    "\n",
    "HYPERPARAMETERS           DEFAULT VALUE       OPTIMIZED VALUE\n",
    "\n",
    "criterion                  Gini                Entropy\n",
    "max_depth                  None                None\n",
    "max_features               None(max)           sqrt\n",
    "min_samples_leaf            1                    5\n",
    "min_sample_split            2                    8"
   ]
  },
  {
   "cell_type": "markdown",
   "metadata": {},
   "source": [
    "### 3. Random Forest (Classifier)"
   ]
  },
  {
   "cell_type": "code",
   "execution_count": 172,
   "metadata": {},
   "outputs": [],
   "source": [
    "#importing modules\n",
    "from sklearn.ensemble import RandomForestClassifier"
   ]
  },
  {
   "cell_type": "markdown",
   "metadata": {},
   "source": [
    "#### 3.1 With default hyperparameters"
   ]
  },
  {
   "cell_type": "code",
   "execution_count": 184,
   "metadata": {},
   "outputs": [
    {
     "name": "stdout",
     "output_type": "stream",
     "text": [
      "Accuracy: 0.8172043010752689\n"
     ]
    },
    {
     "data": {
      "text/html": [
       "<div>\n",
       "<style scoped>\n",
       "    .dataframe tbody tr th:only-of-type {\n",
       "        vertical-align: middle;\n",
       "    }\n",
       "\n",
       "    .dataframe tbody tr th {\n",
       "        vertical-align: top;\n",
       "    }\n",
       "\n",
       "    .dataframe thead th {\n",
       "        text-align: right;\n",
       "    }\n",
       "</style>\n",
       "<table border=\"1\" class=\"dataframe\">\n",
       "  <thead>\n",
       "    <tr style=\"text-align: right;\">\n",
       "      <th></th>\n",
       "      <th>Abnormal</th>\n",
       "      <th>Normal</th>\n",
       "    </tr>\n",
       "  </thead>\n",
       "  <tbody>\n",
       "    <tr>\n",
       "      <th>Abnormal</th>\n",
       "      <td>20</td>\n",
       "      <td>8</td>\n",
       "    </tr>\n",
       "    <tr>\n",
       "      <th>Normal</th>\n",
       "      <td>9</td>\n",
       "      <td>56</td>\n",
       "    </tr>\n",
       "  </tbody>\n",
       "</table>\n",
       "</div>"
      ],
      "text/plain": [
       "          Abnormal  Normal\n",
       "Abnormal        20       8\n",
       "Normal           9      56"
      ]
     },
     "execution_count": 184,
     "metadata": {},
     "output_type": "execute_result"
    }
   ],
   "source": [
    "#using default parameters to build random forest model\n",
    "\n",
    "clf = RandomForestClassifier()  #n_estimators=100 by default\n",
    "clf.fit(x_train, y_train)\n",
    "\n",
    "  \n",
    "predicted1 = clf.predict(x_test)\n",
    "\n",
    "print(\"Accuracy:\",metrics.accuracy_score(y_test,predicted1))\n",
    "pd.DataFrame(metrics.confusion_matrix(y_test,predicted1),columns=['Abnormal','Normal'],index=['Abnormal','Normal'])"
   ]
  },
  {
   "cell_type": "markdown",
   "metadata": {},
   "source": [
    "With default setting of parameters in random forest the accuracy is 81.72%."
   ]
  },
  {
   "cell_type": "markdown",
   "metadata": {},
   "source": [
    "#### 3.2 With hyperparameters tuning- using GridSearchCV"
   ]
  },
  {
   "cell_type": "code",
   "execution_count": 199,
   "metadata": {},
   "outputs": [
    {
     "name": "stdout",
     "output_type": "stream",
     "text": [
      "n of trees: 50\n",
      "correct predictions: 81.72043010752688\n",
      "          Abmormal  Normal\n",
      "Abnormal        22       6\n",
      "Normal          11      54\n",
      "n of trees: 70\n",
      "correct predictions: 83.87096774193549\n",
      "          Abmormal  Normal\n",
      "Abnormal        23       5\n",
      "Normal          10      55\n",
      "n of trees: 80\n",
      "correct predictions: 83.87096774193549\n",
      "          Abmormal  Normal\n",
      "Abnormal        21       7\n",
      "Normal           8      57\n",
      "n of trees: 90\n",
      "correct predictions: 84.94623655913979\n",
      "          Abmormal  Normal\n",
      "Abnormal        22       6\n",
      "Normal           8      57\n",
      "n of trees: 100\n",
      "correct predictions: 83.87096774193549\n",
      "          Abmormal  Normal\n",
      "Abnormal        20       8\n",
      "Normal           7      58\n",
      "n of trees: 150\n",
      "correct predictions: 81.72043010752688\n",
      "          Abmormal  Normal\n",
      "Abnormal        20       8\n",
      "Normal           9      56\n",
      "n of trees: 200\n",
      "correct predictions: 79.56989247311827\n",
      "          Abmormal  Normal\n",
      "Abnormal        19       9\n",
      "Normal          10      55\n",
      "n of trees: 300\n",
      "correct predictions: 78.49462365591397\n",
      "          Abmormal  Normal\n",
      "Abnormal        18      10\n",
      "Normal          10      55\n"
     ]
    }
   ],
   "source": [
    "#Generate forests containing  50,70,80,90,100,150,200,300 trees\n",
    "\n",
    "#hyper parameters set\n",
    "params = { \"max_depth\": [4,None],\n",
    "           'criterion':['gini','entropy'],\n",
    "           'min_samples_leaf':[2,3,4],\n",
    "           'min_samples_split':[5,6,7,8], \n",
    "           'max_features':[7,9,10,11],\n",
    "           'n_jobs':[-1]}\n",
    "\n",
    "n_trees = [50,70,80,90,100,150,200,300] # List to set number of tress in random forest\n",
    "\n",
    "for i in n_trees:\n",
    "    ran_for = RandomForestClassifier(n_estimators=i,random_state=123) # creating instance\n",
    "    ran_for=GridSearchCV(ran_for, param_grid=params, n_jobs=-1)       # finding the best parameters\n",
    "\n",
    "    ran_for.fit(x_train,y_train)    # Learning                     \n",
    "    pred = ran_for.predict(x_test)  # prediction\n",
    "    \n",
    "    print('n of trees: {}'.format(i))\n",
    "    #Each time of prediction,the accuracy is measured\n",
    "    correct_pred = 0\n",
    "    for j,k in zip(y_test,pred):\n",
    "        if j == k:\n",
    "            correct_pred += 1\n",
    "    print('correct predictions: {}'.format(correct_pred/len(y_test) *100))\n",
    "    matrix = pd.DataFrame(metrics.confusion_matrix(y_test,pred),columns=['Abmormal','Normal'],index=['Abnormal','Normal'])\n",
    "    print(matrix)"
   ]
  },
  {
   "cell_type": "markdown",
   "metadata": {},
   "source": [
    "From the results is it clear that the tuned parameters works best with 90 trees in random forest.\n",
    "\n",
    "Let us now find the best tuned hyperparamaters when number of tress are 90."
   ]
  },
  {
   "cell_type": "code",
   "execution_count": 301,
   "metadata": {},
   "outputs": [
    {
     "name": "stdout",
     "output_type": "stream",
     "text": [
      "Best Hyper Parameters:\n",
      " {'criterion': 'entropy', 'max_depth': None, 'max_features': 11, 'min_samples_leaf': 2, 'min_samples_split': 8, 'n_jobs': -1}\n",
      "Accuracy: 0.8494623655913979\n"
     ]
    },
    {
     "data": {
      "text/html": [
       "<div>\n",
       "<style scoped>\n",
       "    .dataframe tbody tr th:only-of-type {\n",
       "        vertical-align: middle;\n",
       "    }\n",
       "\n",
       "    .dataframe tbody tr th {\n",
       "        vertical-align: top;\n",
       "    }\n",
       "\n",
       "    .dataframe thead th {\n",
       "        text-align: right;\n",
       "    }\n",
       "</style>\n",
       "<table border=\"1\" class=\"dataframe\">\n",
       "  <thead>\n",
       "    <tr style=\"text-align: right;\">\n",
       "      <th></th>\n",
       "      <th>Abnormal</th>\n",
       "      <th>Normal</th>\n",
       "    </tr>\n",
       "  </thead>\n",
       "  <tbody>\n",
       "    <tr>\n",
       "      <th>Abnormal</th>\n",
       "      <td>22</td>\n",
       "      <td>6</td>\n",
       "    </tr>\n",
       "    <tr>\n",
       "      <th>Normal</th>\n",
       "      <td>8</td>\n",
       "      <td>57</td>\n",
       "    </tr>\n",
       "  </tbody>\n",
       "</table>\n",
       "</div>"
      ],
      "text/plain": [
       "          Abnormal  Normal\n",
       "Abnormal        22       6\n",
       "Normal           8      57"
      ]
     },
     "execution_count": 301,
     "metadata": {},
     "output_type": "execute_result"
    }
   ],
   "source": [
    "params = { \"max_depth\": [4,None],\n",
    "           'criterion':['gini','entropy'],\n",
    "            'min_samples_leaf':[2,3,4],\n",
    "            'min_samples_split':[5,6,7,8], \n",
    "            'max_features':[7,9,10,11],\n",
    "            'n_jobs':[-1]}\n",
    "\n",
    "# creating instance with 90 trees\n",
    "ran_for = RandomForestClassifier(n_estimators=90,random_state=123)\n",
    "\n",
    "#Finding the best parameters\n",
    "ran_for=GridSearchCV(ran_for, param_grid=params, n_jobs=-1)\n",
    "\n",
    "#The best hyper parameters set\n",
    "print(\"Best Hyper Parameters:\\n\",ran_for.best_params_)\n",
    "\n",
    "# Learning\n",
    "ran_for.fit(x_train,y_train)\n",
    "\n",
    "#Prediction\n",
    "prediction2=ran_for.predict(x_test)\n",
    "\n",
    "#evaluation(Accuracy)\n",
    "print(\"Accuracy:\",metrics.accuracy_score(prediction2,y_test))\n",
    "\n",
    "#Print Confusion matrix\n",
    "pd.DataFrame(metrics.confusion_matrix(y_test,prediction2),columns=['Abnormal','Normal'],index=['Abnormal','Normal'])"
   ]
  },
  {
   "cell_type": "markdown",
   "metadata": {},
   "source": [
    "The accuracy has drastically improved from 81.72% to 84.94% after tuning the hyperparameters.\n",
    "\n",
    "HYPERPARAMETERS           DEFAULT VALUE       OPTIMIZED VALUE\n",
    "\n",
    "criterion                  Gini                Entropy\n",
    "n_estimators               100                  90\n",
    "max_depth                  None                None\n",
    "max_features               auto(max)            11\n",
    "min_samples_leaf            1                    2\n",
    "min_sample_split            2                    8"
   ]
  },
  {
   "cell_type": "markdown",
   "metadata": {},
   "source": [
    "##### Plotting the ROC curves with default and tuned parameters"
   ]
  },
  {
   "cell_type": "code",
   "execution_count": 209,
   "metadata": {},
   "outputs": [
    {
     "name": "stdout",
     "output_type": "stream",
     "text": [
      "ROC with default parameters:  0.8859890109890111\n"
     ]
    }
   ],
   "source": [
    "# roc1 for default parameters\n",
    "probas1_ = clf.fit(x_train, y_train).predict_proba(x_test)\n",
    "\n",
    "from sklearn.metrics import roc_curve, auc\n",
    "import matplotlib.pyplot as plt\n",
    "\n",
    "from sklearn.metrics import roc_curve, auc\n",
    "import matplotlib.pyplot as plt\n",
    "false_positive_rate1, true_positive_rate1, thresholds = roc_curve(y_test, probas1_[:, 1])\n",
    "roc_auc1 = auc(false_positive_rate1, true_positive_rate1)\n",
    "print(\"ROC with default parameters: \",roc_auc1)"
   ]
  },
  {
   "cell_type": "code",
   "execution_count": 222,
   "metadata": {},
   "outputs": [],
   "source": [
    "# Creating instance with best parameters from GridSearch of random forest.\n",
    "clf1=RandomForestClassifier(n_estimators=90,criterion= 'entropy',\n",
    "                            max_depth=None , max_features= 11,\n",
    "                            min_samples_leaf=2, min_samples_split= 8)"
   ]
  },
  {
   "cell_type": "code",
   "execution_count": 236,
   "metadata": {},
   "outputs": [
    {
     "data": {
      "text/plain": [
       "0.914010989010989"
      ]
     },
     "execution_count": 236,
     "metadata": {},
     "output_type": "execute_result"
    }
   ],
   "source": [
    "# roc for tuned parameters using GridSearchCV\n",
    "probas2_ = clf1.fit(x_train, y_train).predict_proba(x_test)\n",
    "\n",
    "from sklearn.metrics import roc_curve, auc\n",
    "import matplotlib.pyplot as plt\n",
    "false_positive_rate2, true_positive_rate2, thresholds = roc_curve(y_test,probas2_[:, 1])\n",
    "roc_auc2 = auc(false_positive_rate2, true_positive_rate2)\n",
    "roc_auc2"
   ]
  },
  {
   "cell_type": "code",
   "execution_count": 238,
   "metadata": {},
   "outputs": [
    {
     "data": {
      "image/png": "[encoded data removed]",
      "text/plain": [
       "<Figure size 432x288 with 1 Axes>"
      ]
     },
     "metadata": {
      "needs_background": "light"
     },
     "output_type": "display_data"
    }
   ],
   "source": [
    "plt.title('Receiver Operating Characteristic-random forest')\n",
    "plt.plot(false_positive_rate1, true_positive_rate1, 'g',\n",
    "label='AUC-default parameters = %0.5f'% roc_auc1)\n",
    "\n",
    "\n",
    "plt.plot(false_positive_rate2, true_positive_rate2, 'b',\n",
    "label='AUC-best randomized search parameters = %0.5f'% roc_auc2)\n",
    "\n",
    "\n",
    "plt.legend(loc='lower right')\n",
    "plt.plot([0,1],[0,1],'k--')\n",
    "plt.ylabel('True Positive Rate')\n",
    "plt.xlabel('False Positive Rate')\n",
    "plt.show()"
   ]
  },
  {
   "cell_type": "markdown",
   "metadata": {},
   "source": [
    "The AUROC of tuned model is more than that of default model. And thus we can say that the model with tuned hyperparameters is better."
   ]
  },
  {
   "cell_type": "markdown",
   "metadata": {},
   "source": [
    "#### Conclusion"
   ]
  },
  {
   "cell_type": "markdown",
   "metadata": {},
   "source": [
    "Hyperparameter optimization is an important part of any modern machine learning pipeline to achieve performance gains.\n",
    "Since hyperparameters tuning take up most of the time while working on a model and they decide the performance, in the long run, we need to take steps to tune them, that in turn, decides the stability of the model. Choosing Correct Hyperparameters for our model will not only decide the time taken by a model to reach its convergence or reduce loss but can also decide the decisions and iterations needed to get better results faster. With a caution that it must be implemented correctly. "
   ]
  }
 ],
 "metadata": {
  "kernelspec": {
   "display_name": "Python 3",
   "language": "python",
   "name": "python3"
  },
  "language_info": {
   "codemirror_mode": {
    "name": "ipython",
    "version": 3
   },
   "file_extension": ".py",
   "mimetype": "text/x-python",
   "name": "python",
   "nbconvert_exporter": "python",
   "pygments_lexer": "ipython3",
   "version": "3.7.3"
  }
 },
 "nbformat": 4,
 "nbformat_minor": 2
}
